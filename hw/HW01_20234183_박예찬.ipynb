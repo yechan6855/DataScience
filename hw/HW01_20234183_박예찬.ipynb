{
  "nbformat": 4,
  "nbformat_minor": 0,
  "metadata": {
    "colab": {
      "provenance": []
    },
    "kernelspec": {
      "name": "python3",
      "display_name": "Python 3"
    }
  },
  "cells": [
    {
      "cell_type": "markdown",
      "metadata": {
        "id": "xvy1kHBQLWeC"
      },
      "source": [
        "# HW01 <font color=red>(제출기한-3월30일 일요일 자정)</font>\n",
        "---\n",
        "NumPy 이해도 평가를 위한 문제입니다.\n",
        "다음 사항을 주의해서 제출하기 바랍니다.\n",
        "\n",
        "- 각 문제에 대한 답안을 <font color=red>'답안을 작성하시오'</font>라고 적힌 <font color=red>한 코드셀 내</font>에 작성하며 셀 내에서 여러줄로 작성해도 무방합니다.\n",
        "- 셀을 추가하거나 셀을 삭제하지 않습니다. 예: (<font color=red>'지우지 마시오'</font> 셀 등)\n",
        "- 출력결과가 미리 제시된 셀(<font color=red>'예시 실행결과를 참조하시오.'</font>라고 표시된 셀)을 참고합니다.\n",
        "- Loop를 사용하지 말고 ufunc을 활용합니다.\n",
        "- 수업시간 배운 내용만을 사용하여 코드를 작성합니다.\n",
        "- 문제나 제출방법에 대한 질문이 있을 경우 제출전 UCLASS 등을 통해 반드시 미리 확인합니다.\n",
        "\n",
        "> 제출방법\n",
        "\n",
        "- ULMS HW1 제출란에 <font color=red>'HW01-학번.ipynb'</font>(본인학번을 기입)을 기한내 업로드합니다.\n"
      ]
    },
    {
      "cell_type": "markdown",
      "metadata": {
        "id": "jd2psIJa3dzg"
      },
      "source": [
        "### 가정\n",
        "- 아래에서 생성된 _score_ 변수는 $20 \\times 4$ 크기의 2차원 numpy array이다.\n",
        "- 이는 10명 학생의 국어, 영어, 수학, 사회 점수(1번째부터 3번째 열 순서)를 각각 나타낸다. (0점~100점)"
      ]
    },
    {
      "cell_type": "code",
      "metadata": {
        "colab": {
          "base_uri": "https://localhost:8080/"
        },
        "outputId": "2bd48629-0d8f-450c-c2bf-a4577e1f7f77",
        "id": "FCA358Dz3dzh"
      },
      "source": [
        "### 지우지 마시오.\n",
        "import numpy as np\n",
        "rng=np.random.RandomState(765)\n",
        "score=rng.randint(20, 101,(10,4))\n",
        "score"
      ],
      "execution_count": 28,
      "outputs": [
        {
          "output_type": "execute_result",
          "data": {
            "text/plain": [
              "array([[49, 24, 66, 47],\n",
              "       [90, 99, 80, 39],\n",
              "       [20, 58, 38, 85],\n",
              "       [36, 27, 62, 56],\n",
              "       [84, 37, 28, 49],\n",
              "       [75, 75, 26, 44],\n",
              "       [22, 60, 26, 45],\n",
              "       [85, 30, 99, 69],\n",
              "       [40, 25, 81, 57],\n",
              "       [45, 98, 64, 57]])"
            ]
          },
          "metadata": {},
          "execution_count": 28
        }
      ]
    },
    {
      "cell_type": "markdown",
      "metadata": {
        "id": "T6ojb-1Q3dzh"
      },
      "source": [
        "### 문제1\n",
        "가장 마지막 학생의 수학 점수가 64점이 아니라 46점이라고 한다.\n",
        "\n",
        "이렇게 *score* 배열을 수정하기 위한 코드를 작성하시오."
      ]
    },
    {
      "cell_type": "code",
      "metadata": {
        "id": "cbJwTqjf3dzh"
      },
      "source": [
        "### 답안을 작성하시오.\n",
        "score[9,3]=46"
      ],
      "execution_count": 29,
      "outputs": []
    },
    {
      "cell_type": "code",
      "metadata": {
        "colab": {
          "base_uri": "https://localhost:8080/"
        },
        "outputId": "f8c2525d-7ab9-4f0b-8bdd-af82bc78eae9",
        "id": "bpZCLYVX3dzh"
      },
      "source": [
        "### 예시 실행결과를 참조하시오.\n",
        "score"
      ],
      "execution_count": 30,
      "outputs": [
        {
          "output_type": "execute_result",
          "data": {
            "text/plain": [
              "array([[49, 24, 66, 47],\n",
              "       [90, 99, 80, 39],\n",
              "       [20, 58, 38, 85],\n",
              "       [36, 27, 62, 56],\n",
              "       [84, 37, 28, 49],\n",
              "       [75, 75, 26, 44],\n",
              "       [22, 60, 26, 45],\n",
              "       [85, 30, 99, 69],\n",
              "       [40, 25, 81, 57],\n",
              "       [45, 98, 64, 46]])"
            ]
          },
          "metadata": {},
          "execution_count": 30
        }
      ]
    },
    {
      "cell_type": "markdown",
      "metadata": {
        "id": "UyQorweg3dzh"
      },
      "source": [
        "### 문제2\n",
        "위 결과 이후 채점에 오류가 발견되어 모든 학생들의 영어점수를 5점씩 줄여야 한다고 한다. 이렇게 *score* 배열을 수정하기 위한 코드를 작성하시오."
      ]
    },
    {
      "cell_type": "code",
      "metadata": {
        "id": "NV4YdXsy3dzi"
      },
      "source": [
        "### 답안을 작성하시오.\n",
        "score[:,1]-=5"
      ],
      "execution_count": 31,
      "outputs": []
    },
    {
      "cell_type": "code",
      "metadata": {
        "colab": {
          "base_uri": "https://localhost:8080/"
        },
        "outputId": "4b42139e-e0cc-482b-f79a-5b9adedddf65",
        "id": "-GR80aI23dzi"
      },
      "source": [
        "### 예시 실행결과를 참조하시오.\n",
        "score"
      ],
      "execution_count": 32,
      "outputs": [
        {
          "output_type": "execute_result",
          "data": {
            "text/plain": [
              "array([[49, 19, 66, 47],\n",
              "       [90, 94, 80, 39],\n",
              "       [20, 53, 38, 85],\n",
              "       [36, 22, 62, 56],\n",
              "       [84, 32, 28, 49],\n",
              "       [75, 70, 26, 44],\n",
              "       [22, 55, 26, 45],\n",
              "       [85, 25, 99, 69],\n",
              "       [40, 20, 81, 57],\n",
              "       [45, 93, 64, 46]])"
            ]
          },
          "metadata": {},
          "execution_count": 32
        }
      ]
    },
    {
      "cell_type": "markdown",
      "metadata": {
        "id": "zoGIBkJn3dzi"
      },
      "source": [
        "### 문제3\n",
        "새로운 음악, 미술 과목의 시험 점수가 다음 _score\\_add_ 변수에 주어진다. 이를 _score_ 변수 데이터에 덧붙여 총 6개 과목의 데이터를 *score_all*변수에 다시 저장하고자 한다. 이를 위한 코드를 작성하시오."
      ]
    },
    {
      "cell_type": "code",
      "metadata": {
        "colab": {
          "base_uri": "https://localhost:8080/"
        },
        "outputId": "cee17e58-a48c-4380-daf8-f42fa60ec191",
        "id": "VYJhyDv_3dzi"
      },
      "source": [
        "### 지우지 마시오.\n",
        "score_add=rng.randint(20, 101,(10,2))\n",
        "score_add"
      ],
      "execution_count": 33,
      "outputs": [
        {
          "output_type": "execute_result",
          "data": {
            "text/plain": [
              "array([[98, 46],\n",
              "       [36, 91],\n",
              "       [72, 37],\n",
              "       [35, 98],\n",
              "       [66, 96],\n",
              "       [66, 85],\n",
              "       [43, 37],\n",
              "       [81, 24],\n",
              "       [94, 91],\n",
              "       [98, 62]])"
            ]
          },
          "metadata": {},
          "execution_count": 33
        }
      ]
    },
    {
      "cell_type": "code",
      "metadata": {
        "id": "epI7AvSy3dzi",
        "colab": {
          "base_uri": "https://localhost:8080/"
        },
        "outputId": "c9f8e59c-151b-4567-fe4f-75a260868c03"
      },
      "source": [
        "### 답안을 작성하시오.\n",
        "score_all = np.concatenate((score,score_add),axis=1)\n",
        "score_all"
      ],
      "execution_count": 75,
      "outputs": [
        {
          "output_type": "execute_result",
          "data": {
            "text/plain": [
              "array([[49, 19, 66, 47, 98, 46],\n",
              "       [90, 94, 80, 39, 36, 91],\n",
              "       [20, 53, 38, 85, 72, 37],\n",
              "       [36, 22, 62, 56, 35, 98],\n",
              "       [84, 32, 28, 49, 66, 96],\n",
              "       [75, 70, 26, 44, 66, 85],\n",
              "       [22, 55, 26, 45, 43, 37],\n",
              "       [85, 25, 99, 69, 81, 24],\n",
              "       [40, 20, 81, 57, 94, 91],\n",
              "       [45, 93, 64, 46, 98, 62]])"
            ]
          },
          "metadata": {},
          "execution_count": 75
        }
      ]
    },
    {
      "cell_type": "code",
      "metadata": {
        "colab": {
          "base_uri": "https://localhost:8080/"
        },
        "outputId": "0d0fde31-18c8-4e17-8dc1-72c9fe0eb854",
        "id": "z0lcTutl3dzi"
      },
      "source": [
        "### 예시 실행결과를 참조하시오.\n",
        "score_all"
      ],
      "execution_count": 35,
      "outputs": [
        {
          "output_type": "execute_result",
          "data": {
            "text/plain": [
              "array([[49, 19, 66, 47, 98, 46],\n",
              "       [90, 94, 80, 39, 36, 91],\n",
              "       [20, 53, 38, 85, 72, 37],\n",
              "       [36, 22, 62, 56, 35, 98],\n",
              "       [84, 32, 28, 49, 66, 96],\n",
              "       [75, 70, 26, 44, 66, 85],\n",
              "       [22, 55, 26, 45, 43, 37],\n",
              "       [85, 25, 99, 69, 81, 24],\n",
              "       [40, 20, 81, 57, 94, 91],\n",
              "       [45, 93, 64, 46, 98, 62]])"
            ]
          },
          "metadata": {},
          "execution_count": 35
        }
      ]
    },
    {
      "cell_type": "markdown",
      "metadata": {
        "id": "0r-4Dtyy3dzi"
      },
      "source": [
        "### 문제4\n",
        "위 결과 *score_all* array에 대해 과목별 평균점수를 뜻하는 _avg\\_subject_ array(1차원)를 구하는 코드를 작성하시오."
      ]
    },
    {
      "cell_type": "code",
      "metadata": {
        "id": "khH_NMkj3dzj"
      },
      "source": [
        "### 답안을 작성하시오.\n",
        "avg_subject = np.average(score_all,axis=0)"
      ],
      "execution_count": 76,
      "outputs": []
    },
    {
      "cell_type": "code",
      "metadata": {
        "colab": {
          "base_uri": "https://localhost:8080/"
        },
        "outputId": "deb3c7f8-e0d4-4835-e444-68407a57bf03",
        "id": "3FaUVPL43dzj"
      },
      "source": [
        "### 예시 실행결과를 참조하시오.\n",
        "avg_subject"
      ],
      "execution_count": 37,
      "outputs": [
        {
          "output_type": "execute_result",
          "data": {
            "text/plain": [
              "array([54.6, 48.3, 57. , 53.7, 68.9, 66.7])"
            ]
          },
          "metadata": {},
          "execution_count": 37
        }
      ]
    },
    {
      "cell_type": "markdown",
      "metadata": {
        "id": "XsNFC1yP3dzj"
      },
      "source": [
        "### 문제5\n",
        "비슷하게 *score* array에 대해 학생별 평균점수를 뜻하는 _avg\\_student_ array(1차원)를 구하는 코드를 작성하시오."
      ]
    },
    {
      "cell_type": "code",
      "metadata": {
        "id": "z2y6otni3dzj"
      },
      "source": [
        "### 답안을 작성하시오.\n",
        "avg_student = np.average(score_all,axis=1)"
      ],
      "execution_count": 46,
      "outputs": []
    },
    {
      "cell_type": "code",
      "metadata": {
        "colab": {
          "base_uri": "https://localhost:8080/"
        },
        "outputId": "9584fb81-923d-403e-9a17-0af5ad65d649",
        "id": "a1hJQBJi3dzj"
      },
      "source": [
        "### 예시 실행결과를 참조하시오.\n",
        "avg_student"
      ],
      "execution_count": 61,
      "outputs": [
        {
          "output_type": "execute_result",
          "data": {
            "text/plain": [
              "array([54.16666667, 71.66666667, 50.83333333, 51.5       , 59.16666667,\n",
              "       61.        , 38.        , 63.83333333, 63.83333333, 68.        ])"
            ]
          },
          "metadata": {},
          "execution_count": 61
        }
      ]
    },
    {
      "cell_type": "markdown",
      "metadata": {
        "id": "essKU3Li3dzj"
      },
      "source": [
        "### 문제6\n",
        "각 점수가 해당과목의 평균으로부터 얼마나 차이가 나는지(이를 편차라고 한다.)를 나타내는 _score\\_dev_ array(2차원)를 생성하시오.\n",
        "- score_dev의 shape는 score의 shape와 동일하다. 즉 score_dev.shape=(20, 6)\n",
        "- 만약 어떤 학생의 국어 점수가 30점이고 전체 학생의 국어 평균이 45점이면 그 차이(편차)는 $30-45=-15$ 점이다.\n",
        "\n",
        "---\n",
        "참고) _score\\_dev_ 의 axis=0 방향 평균값이 어떻게 될 지 생각해 보자.\n"
      ]
    },
    {
      "cell_type": "code",
      "metadata": {
        "id": "RHDLWSPY3dzj"
      },
      "source": [
        "### 답안을 작성하시오.\n",
        "score_dev = score_all - np.mean(score_all, axis=0)"
      ],
      "execution_count": 82,
      "outputs": []
    },
    {
      "cell_type": "code",
      "metadata": {
        "colab": {
          "base_uri": "https://localhost:8080/"
        },
        "outputId": "a0ebb5e4-8d13-408c-8c63-110e51caaf42",
        "id": "VJMmKwfv3dzj"
      },
      "source": [
        "### 예시 실행결과를 참조하시오.\n",
        "score_dev"
      ],
      "execution_count": 83,
      "outputs": [
        {
          "output_type": "execute_result",
          "data": {
            "text/plain": [
              "array([[ -5.6, -29.3,   9. ,  -6.7,  29.1, -20.7],\n",
              "       [ 35.4,  45.7,  23. , -14.7, -32.9,  24.3],\n",
              "       [-34.6,   4.7, -19. ,  31.3,   3.1, -29.7],\n",
              "       [-18.6, -26.3,   5. ,   2.3, -33.9,  31.3],\n",
              "       [ 29.4, -16.3, -29. ,  -4.7,  -2.9,  29.3],\n",
              "       [ 20.4,  21.7, -31. ,  -9.7,  -2.9,  18.3],\n",
              "       [-32.6,   6.7, -31. ,  -8.7, -25.9, -29.7],\n",
              "       [ 30.4, -23.3,  42. ,  15.3,  12.1, -42.7],\n",
              "       [-14.6, -28.3,  24. ,   3.3,  25.1,  24.3],\n",
              "       [ -9.6,  44.7,   7. ,  -7.7,  29.1,  -4.7]])"
            ]
          },
          "metadata": {},
          "execution_count": 83
        }
      ]
    },
    {
      "cell_type": "markdown",
      "metadata": {
        "id": "X8lGy3u63dzk"
      },
      "source": [
        "### 문제7\n",
        "위 *avg_student*를 이용하여 전체과목 평균점수를 기준으로 1등과 10등을 한 학생들이 몇 번째 학생인지를 각각 *student_best*와 *student_worst*에 각각 저장하시오.\n",
        "- 결과값은 1이상 10이하의 자연수이다."
      ]
    },
    {
      "cell_type": "code",
      "metadata": {
        "id": "4ahTdzt73dzk"
      },
      "source": [
        "### 답안을 작성하시오.\n",
        "student_best = np.argmax(avg_student)+1\n",
        "student_worst = np.argmin(avg_student)+1"
      ],
      "execution_count": 85,
      "outputs": []
    },
    {
      "cell_type": "code",
      "metadata": {
        "colab": {
          "base_uri": "https://localhost:8080/"
        },
        "outputId": "b5cd463e-6299-4cad-9226-918054880f9a",
        "id": "Y49OjGug3dzk"
      },
      "source": [
        "### 예시 실행결과를 참조하시오.\n",
        "student_best, student_worst"
      ],
      "execution_count": 86,
      "outputs": [
        {
          "output_type": "execute_result",
          "data": {
            "text/plain": [
              "(np.int64(2), np.int64(7))"
            ]
          },
          "metadata": {},
          "execution_count": 86
        }
      ]
    },
    {
      "cell_type": "markdown",
      "metadata": {
        "id": "2ODNepd03dzk"
      },
      "source": [
        "### 문제8\n",
        "위 avg_student를 이용하여 전체 학생의 평균점수를 구하여 _avg\\_total_ 변수에 저장하시오."
      ]
    },
    {
      "cell_type": "code",
      "metadata": {
        "id": "uYuJ4eIP3dzk"
      },
      "source": [
        "### 답안을 작성하시오.\n",
        "avg_total = np.mean(avg_student)"
      ],
      "execution_count": 87,
      "outputs": []
    },
    {
      "cell_type": "code",
      "metadata": {
        "colab": {
          "base_uri": "https://localhost:8080/"
        },
        "outputId": "95c11cfa-e982-4ab0-f0e6-af2a89a7ff4f",
        "id": "TFvVyVX93dzk"
      },
      "source": [
        "### 예시 실행결과를 참조하시오.\n",
        "avg_total"
      ],
      "execution_count": 88,
      "outputs": [
        {
          "output_type": "execute_result",
          "data": {
            "text/plain": [
              "np.float64(58.2)"
            ]
          },
          "metadata": {},
          "execution_count": 88
        }
      ]
    },
    {
      "cell_type": "markdown",
      "metadata": {
        "id": "6pviDfVn3dzk"
      },
      "source": [
        "### 문제9\n",
        "전체 평균 점수(_avg\\_total_) 보다 높은 평균 점수를 얻은 학생의 수를 구하여 _no\\_student\\_high_ 변수에 저장하시오.  "
      ]
    },
    {
      "cell_type": "code",
      "metadata": {
        "id": "qg_ZwBlk3dzl"
      },
      "source": [
        "### 답안을 작성하시오.\n",
        "no_student_high = np.sum(avg_student > avg_total)"
      ],
      "execution_count": 89,
      "outputs": []
    },
    {
      "cell_type": "code",
      "metadata": {
        "colab": {
          "base_uri": "https://localhost:8080/"
        },
        "outputId": "617e0e5f-2f75-4a5e-a4dd-b901677a0c76",
        "id": "p0baINud3dzl"
      },
      "source": [
        "### 예시 실행결과를 참조하시오.\n",
        "no_student_high"
      ],
      "execution_count": 90,
      "outputs": [
        {
          "output_type": "execute_result",
          "data": {
            "text/plain": [
              "np.int64(6)"
            ]
          },
          "metadata": {},
          "execution_count": 90
        }
      ]
    },
    {
      "cell_type": "markdown",
      "metadata": {
        "id": "DwAYeFBJ3dzl"
      },
      "source": [
        "### 문제10\n",
        "수학점수가 국어점수와 영어점수보다 모두 더 높은 학생 수를 구하여 _no\\_student\\_math_ 변수에 저장하시오.\n"
      ]
    },
    {
      "cell_type": "code",
      "metadata": {
        "id": "5uM0SifO3dzl"
      },
      "source": [
        "### 답안을 작성하시오.\n",
        "no_student_math = np.sum((score_all[:,2] > score_all[:,0]) & (score_all[:,2]>score_all[:,1]))"
      ],
      "execution_count": 91,
      "outputs": []
    },
    {
      "cell_type": "code",
      "metadata": {
        "colab": {
          "base_uri": "https://localhost:8080/"
        },
        "outputId": "940dbf3c-8b0b-43ad-83bb-225dc0245f86",
        "id": "VGat_5jx3dzl"
      },
      "source": [
        "### 예시 실행결과를 참조하시오.\n",
        "no_student_math"
      ],
      "execution_count": 92,
      "outputs": [
        {
          "output_type": "execute_result",
          "data": {
            "text/plain": [
              "np.int64(4)"
            ]
          },
          "metadata": {},
          "execution_count": 92
        }
      ]
    }
  ]
}